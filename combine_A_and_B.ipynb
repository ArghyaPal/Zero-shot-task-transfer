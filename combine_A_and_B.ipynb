{
  "nbformat": 4,
  "nbformat_minor": 0,
  "metadata": {
    "colab": {
      "name": "combine_A_and_B.ipynb",
      "version": "0.3.2",
      "provenance": [],
      "collapsed_sections": []
    },
    "kernelspec": {
      "name": "python3",
      "display_name": "Python 3"
    }
  },
  "cells": [
    {
      "cell_type": "code",
      "metadata": {
        "id": "0GMiQF4s-a8t",
        "colab_type": "code",
        "colab": {}
      },
      "source": [
        "import os\n",
        "import numpy as np\n",
        "import cv2\n",
        "import argparse\n",
        "            \n",
        "            \n",
        "            \n",
        "            \n",
        "            \n",
        "            \n",
        "            \n",
        "            "
      ],
      "execution_count": 0,
      "outputs": []
    },
    {
      "cell_type": "code",
      "metadata": {
        "id": "rC9jAnM3-qD4",
        "colab_type": "code",
        "colab": {}
      },
      "source": [
        "fold_A='/DATA/arghya/CVPR2019/data/rgb/train'  # RGB Image\n",
        "fold_B='/DATA/arghya/CVPR2019/data/<task>/train' # Task's Ground Truth\n",
        "num_imgs=                                          # Enter Number of Images\n",
        "\n",
        "\n",
        "\n",
        "fold_AB='/DATA/arghya/CVPR2019/combined/<task>/train'\n"
      ],
      "execution_count": 0,
      "outputs": []
    },
    {
      "cell_type": "code",
      "metadata": {
        "id": "9q3zVMKG-ukP",
        "colab_type": "code",
        "colab": {}
      },
      "source": [
        "splits = os.listdir(fold_A)\n",
        "\n",
        "for sp in splits:\n",
        "    img_fold_A = os.path.join(fold_A, sp)\n",
        "    img_fold_B = os.path.join(fold_B, sp)\n",
        "    img_list = os.listdir(img_fold_A)\n",
        "    if use_AB:\n",
        "        img_list = [img_path for img_path in img_list if '_A.' in img_path]\n",
        "\n",
        "    num_imgs = min(num_imgs, len(img_list))\n",
        "    print('split = %s, use %d/%d images' % (sp, num_imgs, len(img_list)))\n",
        "    img_fold_AB = os.path.join(fold_AB, sp)\n",
        "    if not os.path.isdir(img_fold_AB):\n",
        "        os.makedirs(img_fold_AB)\n",
        "    print('split = %s, number of images = %d' % (sp, num_imgs))\n",
        "    for n in range(num_imgs):\n",
        "        name_A = img_list[n]\n",
        "        path_A = os.path.join(img_fold_A, name_A)\n",
        "        if use_AB:\n",
        "            name_B = name_A.replace('_A.', '_B.')\n",
        "        else:\n",
        "            name_B = name_A\n",
        "        path_B = os.path.join(img_fold_B, name_B)\n",
        "        if os.path.isfile(path_A) and os.path.isfile(path_B):\n",
        "            name_AB = name_A\n",
        "            if use_AB:\n",
        "                name_AB = name_AB.replace('_A.', '.')  # remove _A\n",
        "            path_AB = os.path.join(img_fold_AB, name_AB)\n",
        "            im_A = cv2.imread(path_A, 1) # python2: cv2.CV_LOAD_IMAGE_COLOR; python3: cv2.IMREAD_COLOR\n",
        "            im_B = cv2.imread(path_B, 1) # python2: cv2.CV_LOAD_IMAGE_COLOR; python3: cv2.IMREAD_COLOR\n",
        "            im_AB = np.concatenate([im_A, im_B], 1)\n",
        "            cv2.imwrite(path_AB, im_AB)"
      ],
      "execution_count": 0,
      "outputs": []
    }
  ]
}